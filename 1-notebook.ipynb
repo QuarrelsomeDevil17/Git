{
 "cells": [
  {
   "cell_type": "markdown",
   "id": "66705d2d",
   "metadata": {},
   "source": [
    "# TITLE of The Notebook"
   ]
  },
  {
   "cell_type": "code",
   "execution_count": null,
   "id": "58190f2c",
   "metadata": {},
   "outputs": [],
   "source": []
  },
  {
   "cell_type": "markdown",
   "id": "c8534c7e",
   "metadata": {},
   "source": [
    "Hello and welcome to this Jupyter Notebook"
   ]
  },
  {
   "cell_type": "code",
   "execution_count": null,
   "id": "1b59f270",
   "metadata": {},
   "outputs": [],
   "source": []
  },
  {
   "cell_type": "code",
   "execution_count": null,
   "id": "a5d253d6",
   "metadata": {},
   "outputs": [],
   "source": []
  },
  {
   "cell_type": "code",
   "execution_count": null,
   "id": "2125bce1",
   "metadata": {},
   "outputs": [],
   "source": []
  },
  {
   "cell_type": "code",
   "execution_count": null,
   "id": "5cf56bad",
   "metadata": {},
   "outputs": [],
   "source": []
  },
  {
   "cell_type": "code",
   "execution_count": null,
   "id": "bda2e625",
   "metadata": {},
   "outputs": [],
   "source": []
  },
  {
   "cell_type": "code",
   "execution_count": null,
   "id": "480fc9e6",
   "metadata": {},
   "outputs": [],
   "source": []
  },
  {
   "cell_type": "markdown",
   "id": "6e5c68e8",
   "metadata": {},
   "source": [
    "### Data Science Languages\n",
    "1. Python\n",
    "2. R\n",
    "3. SQL\n",
    "4. Java\n",
    "5. Julia\n",
    "6. Scala\n",
    "7. MATLAB\n",
    "8. SAS\n",
    "9. C++"
   ]
  },
  {
   "cell_type": "code",
   "execution_count": null,
   "id": "0ecb6381",
   "metadata": {},
   "outputs": [],
   "source": []
  },
  {
   "cell_type": "code",
   "execution_count": null,
   "id": "cbfae2c1",
   "metadata": {},
   "outputs": [],
   "source": []
  },
  {
   "cell_type": "code",
   "execution_count": null,
   "id": "2c1c8f3b",
   "metadata": {},
   "outputs": [],
   "source": []
  },
  {
   "cell_type": "markdown",
   "id": "a1242611",
   "metadata": {},
   "source": [
    "### Data Science Libraries \n",
    "\n",
    "1. NumPy\n",
    "2. pandas\n",
    "3. scikit-learn\n",
    "4. TensorFlow\n",
    "5. Keras\n",
    "6. PyTorch\n",
    "7. Matplotlib\n",
    "8. Seaborn\n",
    "9. StatsModels\n",
    "10. XGBoost\n",
    "11. LightGBM\n",
    "12. NLTK\n",
    "13. spaCy\n",
    "14. Gensim\n",
    "15. OpenCV\n",
    "16. Plotly\n",
    "17. Bokeh\n",
    "18. NetworkX\n",
    "19. Beautiful Soup\n",
    "20. Scrapy"
   ]
  },
  {
   "cell_type": "code",
   "execution_count": null,
   "id": "78681165",
   "metadata": {},
   "outputs": [],
   "source": []
  },
  {
   "cell_type": "markdown",
   "id": "7098918f",
   "metadata": {},
   "source": [
    "### Arithmetic expressions\n",
    "\n",
    "+ Arithmetic expressions are fundamental mathematical representations that encompass a variety of operations, such as addition, subtraction, multiplication, and division."
   ]
  },
  {
   "cell_type": "code",
   "execution_count": null,
   "id": "ef23ea5e",
   "metadata": {},
   "outputs": [],
   "source": []
  },
  {
   "cell_type": "code",
   "execution_count": null,
   "id": "fe4786fe",
   "metadata": {},
   "outputs": [],
   "source": []
  },
  {
   "cell_type": "code",
   "execution_count": null,
   "id": "1b4da3ae",
   "metadata": {},
   "outputs": [],
   "source": []
  },
  {
   "cell_type": "markdown",
   "id": "5f8cf1cb",
   "metadata": {},
   "source": [
    "# Author Details\n",
    "\n",
    "Name - Surya Pratap Singh\n",
    "Desg. - Student(3rd Year)"
   ]
  },
  {
   "cell_type": "code",
   "execution_count": null,
   "id": "df022f43",
   "metadata": {},
   "outputs": [],
   "source": []
  },
  {
   "cell_type": "markdown",
   "id": "00bd71af",
   "metadata": {},
   "source": [
    "#### ADD & MULTIPLY"
   ]
  },
  {
   "cell_type": "code",
   "execution_count": 1,
   "id": "2f15a5f7",
   "metadata": {},
   "outputs": [
    {
     "name": "stdout",
     "output_type": "stream",
     "text": [
      "The result of multiplying and adding is: 65\n"
     ]
    }
   ],
   "source": [
    "number1 = 5\n",
    "number2 = 10\n",
    "\n",
    "result = number1 * number2 + (number1 + number2)\n",
    "\n",
    "print(\"The result of multiplying and adding is:\", result)\n"
   ]
  },
  {
   "cell_type": "markdown",
   "id": "52a3fc35",
   "metadata": {},
   "source": [
    "### unordered list\n",
    " + l1\n",
    " + l2\n",
    " + l3\n",
    " + l4"
   ]
  },
  {
   "cell_type": "code",
   "execution_count": null,
   "id": "7d447130",
   "metadata": {},
   "outputs": [],
   "source": []
  },
  {
   "cell_type": "markdown",
   "id": "bbf04228",
   "metadata": {},
   "source": [
    "### Minutes to Hours "
   ]
  },
  {
   "cell_type": "code",
   "execution_count": 2,
   "id": "a98e412d",
   "metadata": {},
   "outputs": [
    {
     "name": "stdout",
     "output_type": "stream",
     "text": [
      "120 minutes is equal to 2.0 hours\n"
     ]
    }
   ],
   "source": [
    "# Define the number of minutes\n",
    "minutes = 120\n",
    "\n",
    "# Convert minutes to hours\n",
    "hours = minutes / 60\n",
    "\n",
    "# Print the result\n",
    "print(f\"{minutes} minutes is equal to {hours} hours\")\n"
   ]
  },
  {
   "cell_type": "code",
   "execution_count": null,
   "id": "a4fd8890",
   "metadata": {},
   "outputs": [],
   "source": []
  },
  {
   "cell_type": "markdown",
   "id": "b92f12d2",
   "metadata": {},
   "source": [
    "# Data Science Tools\n",
    "\n",
    "Hello and welcome to your Jupyter notebook\n",
    "\n",
    "| Tool Name       | Description                                                        |\n",
    "|-----------------|--------------------------------------------------------------------|\n",
    "| Python          | Versatile programming language for data science                    |\n",
    "| R               | Language and environment for statistical analysis                  |\n",
    "| Jupyter Notebook| Interactive web-based data analysis and visualization              |\n",
    "| Anaconda        | Data science platform with Python and R packages                   |\n",
    "| SQL             | Query language for managing relational databases                   |\n",
    "| Tableau         | Data visualization and business intelligence tool                  |\n",
    "| Excel           | Spreadsheet software often used for data analysis                  |\n",
    "| Hadoop          | Distributed storage and processing for big data                    |\n",
    "| Spark           | In-memory cluster computing for big data processing                |\n",
    "| SAS             | Suite of software for advanced analytics and business intelligence |\n"
   ]
  },
  {
   "cell_type": "code",
   "execution_count": null,
   "id": "d2303491",
   "metadata": {},
   "outputs": [],
   "source": []
  },
  {
   "cell_type": "code",
   "execution_count": null,
   "id": "ed3b754f",
   "metadata": {},
   "outputs": [],
   "source": []
  },
  {
   "cell_type": "code",
   "execution_count": null,
   "id": "e7bdee81",
   "metadata": {},
   "outputs": [],
   "source": []
  },
  {
   "cell_type": "code",
   "execution_count": null,
   "id": "5b3f29b4",
   "metadata": {},
   "outputs": [],
   "source": []
  },
  {
   "cell_type": "code",
   "execution_count": null,
   "id": "94df2cbc",
   "metadata": {},
   "outputs": [],
   "source": []
  },
  {
   "cell_type": "code",
   "execution_count": null,
   "id": "fffd4e00",
   "metadata": {},
   "outputs": [],
   "source": []
  },
  {
   "cell_type": "code",
   "execution_count": null,
   "id": "d4f23389",
   "metadata": {},
   "outputs": [],
   "source": []
  },
  {
   "cell_type": "code",
   "execution_count": null,
   "id": "cfb46b44",
   "metadata": {},
   "outputs": [],
   "source": []
  }
 ],
 "metadata": {
  "kernelspec": {
   "display_name": "Python 3 (ipykernel)",
   "language": "python",
   "name": "python3"
  },
  "language_info": {
   "codemirror_mode": {
    "name": "ipython",
    "version": 3
   },
   "file_extension": ".py",
   "mimetype": "text/x-python",
   "name": "python",
   "nbconvert_exporter": "python",
   "pygments_lexer": "ipython3",
   "version": "3.9.13"
  }
 },
 "nbformat": 4,
 "nbformat_minor": 5
}
